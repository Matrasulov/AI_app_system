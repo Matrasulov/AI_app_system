{
  "nbformat": 4,
  "nbformat_minor": 0,
  "metadata": {
    "colab": {
      "provenance": [],
      "collapsed_sections": [],
      "authorship_tag": "ABX9TyM0Y1GjD8MvUblvxdTov1pX",
      "include_colab_link": true
    },
    "kernelspec": {
      "name": "python3",
      "display_name": "Python 3"
    },
    "language_info": {
      "name": "python"
    },
    "accelerator": "TPU"
  },
  "cells": [
    {
      "cell_type": "markdown",
      "metadata": {
        "id": "view-in-github",
        "colab_type": "text"
      },
      "source": [
        "<a href=\"https://colab.research.google.com/github/Matrasulov/AI_app_system/blob/main/week7Lab_all.ipynb\" target=\"_parent\"><img src=\"https://colab.research.google.com/assets/colab-badge.svg\" alt=\"Open In Colab\"/></a>"
      ]
    },
    {
      "cell_type": "code",
      "source": [
        "import torchvision\n",
        "import torchvision.transforms as transforms \n",
        "from torchvision.datasets import CIFAR10 \n",
        "from torch.utils.data import DataLoader\n",
        "import numpy as np\n",
        "import matplotlib.pyplot as plt\n",
        " \n",
        "# Load training dataset into a single batch.\n",
        "transform= transforms.Compose([transforms. ToTensor()])\n",
        "trainset=CIFAR10(root=\"./pt_data\",train=True, download=True, transform=transform)\n",
        "trainloader=DataLoader(trainset,batch_size=len(trainset),shuffle=False)\n",
        "data= next(iter (trainloader))\n",
        "\n",
        "\n",
        "# Convert to numpy arrays of correct shape for plotting.\n",
        "train_images= data[0].numpy()\n",
        "train_images= np.moveaxis(train_images, 1, 3)\n",
        "train_labels = data[1].numpy()\n",
        "print('Category: ', train_labels[100])\n",
        "\n",
        "plt.figure(figsize=(1, 1)) \n",
        "plt.imshow(train_images[100])\n",
        "plt.show()"
      ],
      "metadata": {
        "colab": {
          "base_uri": "https://localhost:8080/",
          "height": 141
        },
        "id": "jl5DASDOaVmh",
        "outputId": "6582e602-4ae4-4f50-fe3a-7ef2e7ca0b7f"
      },
      "execution_count": 32,
      "outputs": [
        {
          "output_type": "stream",
          "name": "stdout",
          "text": [
            "Files already downloaded and verified\n",
            "Category:  8\n"
          ]
        },
        {
          "output_type": "display_data",
          "data": {
            "text/plain": [
              "<Figure size 72x72 with 1 Axes>"
            ],
            "image/png": "[encoded data removed]"
          },
          "metadata": {
            "needs_background": "light"
          }
        }
      ]
    },
    {
      "cell_type": "code",
      "source": [
        "!pip install requests\n"
      ],
      "metadata": {
        "colab": {
          "base_uri": "https://localhost:8080/"
        },
        "id": "jbs4qx1-bjqR",
        "outputId": "6bbc87f5-083b-4c06-c8d3-17d1e8dddcf3"
      },
      "execution_count": 33,
      "outputs": [
        {
          "output_type": "stream",
          "name": "stdout",
          "text": [
            "Looking in indexes: https://pypi.org/simple, https://us-python.pkg.dev/colab-wheels/public/simple/\n",
            "Requirement already satisfied: requests in /usr/local/lib/python3.7/dist-packages (2.23.0)\n",
            "Requirement already satisfied: urllib3!=1.25.0,!=1.25.1,<1.26,>=1.21.1 in /usr/local/lib/python3.7/dist-packages (from requests) (1.24.3)\n",
            "Requirement already satisfied: certifi>=2017.4.17 in /usr/local/lib/python3.7/dist-packages (from requests) (2022.9.24)\n",
            "Requirement already satisfied: idna<3,>=2.5 in /usr/local/lib/python3.7/dist-packages (from requests) (2.10)\n",
            "Requirement already satisfied: chardet<4,>=3.0.2 in /usr/local/lib/python3.7/dist-packages (from requests) (3.0.4)\n"
          ]
        }
      ]
    },
    {
      "cell_type": "code",
      "source": [
        "import requests\n",
        "# Save datagenerators as file to colab working directory\n",
        "# if you are using Github, make surre you get the \"raw\" version of the code\n",
        "url = 'https://raw.githubusercontent.com/NVDLI/LDL/main/pt_framework/utilities.py'\n",
        "r = requests.get(url)\n",
        "\n",
        "# make sure your filename is the same as how you want to import\n",
        "with open('uilities.py', 'w') as f:\n",
        "  f.write(r.text)"
      ],
      "metadata": {
        "id": "8jlfFzzXboxn"
      },
      "execution_count": 34,
      "outputs": []
    },
    {
      "cell_type": "code",
      "execution_count": 35,
      "metadata": {
        "colab": {
          "base_uri": "https://localhost:8080/"
        },
        "outputId": "f301fd0e-f4d8-49ce-e612-0178d6e8cb7c",
        "id": "VegaaDoG_Cbp"
      },
      "outputs": [
        {
          "output_type": "stream",
          "name": "stdout",
          "text": [
            "Files already downloaded and verified\n"
          ]
        }
      ],
      "source": [
        "import torch\n",
        "import torch.nn as nn\n",
        "import torchvision\n",
        "import torchvision. transforms as transforms\n",
        "from torchvision.datasets import CIFAR10 \n",
        "from torch.utils.data import DataLoader\n",
        "import numpy as np\n",
        "from uilities import train_model\n",
        "\n",
        "device = torch.device(\"cuda:0\" if torch.cuda.is_available() else \"cpu\")\n",
        "\n",
        "EPOCHS = 66\n",
        "\n",
        "BATCH_SIZE=32\n",
        "\n",
        "transform = transforms.Compose([transforms. ToTensor()]) \n",
        "trainset=CIFAR10(root=\"./pt_data\", train=True, download=True, transform=transform) \n",
        "trainloader=DataLoader(trainset, batch_size=len(trainset), shuffle=False) \n",
        "data=next(iter (trainloader))\n",
        "\n",
        "mean = data[0].mean()\n",
        "\n",
        "stddev = data[0].std()"
      ]
    },
    {
      "cell_type": "code",
      "source": [
        "transform=transforms.Compose( \n",
        "    [transforms.ToTensor(), transforms.Normalize(mean,stddev)])\n",
        "\n",
        "trainset = CIFAR10(root='./pt_data', train=True, download=True,transform=transform) \n",
        "testset = CIFAR10(root='./pt_data', train=False, download=True,transform=transform)\n",
        "\n",
        "\n",
        "model = nn. Sequential(\n",
        "    nn.Conv2d(3, 64, 5, stride=2, padding=2),\n",
        "    nn.ReLU(),\n",
        "    nn. Conv2d(64, 64, 3, stride=2, padding=1),\n",
        "    nn.ReLU(),\n",
        "    nn.Flatten(),\n",
        "    nn.Linear (64*8*8, 10)\n",
        ")"
      ],
      "metadata": {
        "colab": {
          "base_uri": "https://localhost:8080/"
        },
        "id": "CihWisAt-51d",
        "outputId": "be8a7595-2ede-4717-ad02-9ffd63b87a73"
      },
      "execution_count": 36,
      "outputs": [
        {
          "output_type": "stream",
          "name": "stdout",
          "text": [
            "Files already downloaded and verified\n",
            "Files already downloaded and verified\n"
          ]
        }
      ]
    },
    {
      "cell_type": "code",
      "source": [
        "layers = next (model.modules())\n",
        "conv_layer0=layers[0]\n",
        "\n",
        "conv_layer1=layers[2]\n",
        "\n",
        "output_layer=layers[5]\n",
        "\n",
        "\n",
        "nn.init.kaiming_normal_(conv_layer0.weight)\n",
        "\n",
        "nn.init.constant(conv_layer0.bias,0.0)\n",
        "\n",
        "nn.init.kaiming_normal_(conv_layer1.weight)\n",
        "\n",
        "nn.init.constant (conv_layer1.bias, 0.0)\n",
        "\n",
        "nn. init.xavier_uniform (output_layer.weight)\n",
        "\n",
        "nn.init.constant (output_layer.bias, 0.0)\n",
        "\n",
        "optimizer = torch.optim.Adam(model.parameters()) \n",
        "loss_function = nn.CrossEntropyLoss()\n",
        "\n",
        "train_model(model, device, EPOCHS, BATCH_SIZE, trainset, testset, optimizer, loss_function, 'acc')"
      ],
      "metadata": {
        "colab": {
          "base_uri": "https://localhost:8080/"
        },
        "id": "Vv2JGME2OQgT",
        "outputId": "1db10a47-85dc-4339-d584-69086f6d2636"
      },
      "execution_count": 37,
      "outputs": [
        {
          "output_type": "stream",
          "name": "stderr",
          "text": [
            "/usr/local/lib/python3.7/dist-packages/ipykernel_launcher.py:11: UserWarning: nn.init.constant is now deprecated in favor of nn.init.constant_.\n",
            "  # This is added back by InteractiveShellApp.init_path()\n",
            "/usr/local/lib/python3.7/dist-packages/ipykernel_launcher.py:15: UserWarning: nn.init.constant is now deprecated in favor of nn.init.constant_.\n",
            "  from ipykernel import kernelapp as app\n",
            "/usr/local/lib/python3.7/dist-packages/ipykernel_launcher.py:17: UserWarning: nn.init.xavier_uniform is now deprecated in favor of nn.init.xavier_uniform_.\n",
            "/usr/local/lib/python3.7/dist-packages/ipykernel_launcher.py:19: UserWarning: nn.init.constant is now deprecated in favor of nn.init.constant_.\n"
          ]
        },
        {
          "output_type": "stream",
          "name": "stdout",
          "text": [
            "Epoch 1/66 loss: 1.3873 - acc: 0.5125 - val_loss: 1.1888 - val_acc: 0.5864\n",
            "Epoch 2/66 loss: 1.0472 - acc: 0.6350 - val_loss: 1.0827 - val_acc: 0.6178\n",
            "Epoch 3/66 loss: 0.9025 - acc: 0.6848 - val_loss: 1.0580 - val_acc: 0.6268\n",
            "Epoch 4/66 loss: 0.8026 - acc: 0.7193 - val_loss: 1.0515 - val_acc: 0.6414\n",
            "Epoch 5/66 loss: 0.7194 - acc: 0.7493 - val_loss: 1.0676 - val_acc: 0.6520\n",
            "Epoch 6/66 loss: 0.6518 - acc: 0.7744 - val_loss: 1.1460 - val_acc: 0.6345\n",
            "Epoch 7/66 loss: 0.5950 - acc: 0.7940 - val_loss: 1.1568 - val_acc: 0.6396\n",
            "Epoch 8/66 loss: 0.5393 - acc: 0.8088 - val_loss: 1.2023 - val_acc: 0.6421\n",
            "Epoch 9/66 loss: 0.4940 - acc: 0.8265 - val_loss: 1.2541 - val_acc: 0.6454\n",
            "Epoch 10/66 loss: 0.4543 - acc: 0.8398 - val_loss: 1.3493 - val_acc: 0.6405\n",
            "Epoch 11/66 loss: 0.4171 - acc: 0.8536 - val_loss: 1.4150 - val_acc: 0.6381\n",
            "Epoch 12/66 loss: 0.3873 - acc: 0.8628 - val_loss: 1.5331 - val_acc: 0.6355\n",
            "Epoch 13/66 loss: 0.3577 - acc: 0.8719 - val_loss: 1.6363 - val_acc: 0.6234\n",
            "Epoch 14/66 loss: 0.3264 - acc: 0.8827 - val_loss: 1.7038 - val_acc: 0.6310\n",
            "Epoch 15/66 loss: 0.3049 - acc: 0.8913 - val_loss: 1.7813 - val_acc: 0.6283\n",
            "Epoch 16/66 loss: 0.2861 - acc: 0.8984 - val_loss: 1.8838 - val_acc: 0.6234\n",
            "Epoch 17/66 loss: 0.2725 - acc: 0.9022 - val_loss: 1.9712 - val_acc: 0.6263\n",
            "Epoch 18/66 loss: 0.2557 - acc: 0.9077 - val_loss: 2.0315 - val_acc: 0.6243\n",
            "Epoch 19/66 loss: 0.2443 - acc: 0.9114 - val_loss: 2.1791 - val_acc: 0.6247\n",
            "Epoch 20/66 loss: 0.2264 - acc: 0.9180 - val_loss: 2.2607 - val_acc: 0.6252\n",
            "Epoch 21/66 loss: 0.2221 - acc: 0.9204 - val_loss: 2.3594 - val_acc: 0.6190\n",
            "Epoch 22/66 loss: 0.2033 - acc: 0.9265 - val_loss: 2.4893 - val_acc: 0.6210\n",
            "Epoch 23/66 loss: 0.2011 - acc: 0.9282 - val_loss: 2.5707 - val_acc: 0.6259\n",
            "Epoch 24/66 loss: 0.1925 - acc: 0.9298 - val_loss: 2.6503 - val_acc: 0.6216\n",
            "Epoch 25/66 loss: 0.1909 - acc: 0.9319 - val_loss: 2.7021 - val_acc: 0.6245\n",
            "Epoch 26/66 loss: 0.1801 - acc: 0.9359 - val_loss: 2.8013 - val_acc: 0.6196\n",
            "Epoch 27/66 loss: 0.1722 - acc: 0.9387 - val_loss: 3.0285 - val_acc: 0.6223\n",
            "Epoch 28/66 loss: 0.1707 - acc: 0.9398 - val_loss: 3.0738 - val_acc: 0.6143\n",
            "Epoch 29/66 loss: 0.1697 - acc: 0.9397 - val_loss: 3.2073 - val_acc: 0.6237\n",
            "Epoch 30/66 loss: 0.1625 - acc: 0.9426 - val_loss: 3.2716 - val_acc: 0.6181\n",
            "Epoch 31/66 loss: 0.1553 - acc: 0.9462 - val_loss: 3.3222 - val_acc: 0.6216\n",
            "Epoch 32/66 loss: 0.1604 - acc: 0.9448 - val_loss: 3.4458 - val_acc: 0.6220\n",
            "Epoch 33/66 loss: 0.1545 - acc: 0.9466 - val_loss: 3.4736 - val_acc: 0.6230\n",
            "Epoch 34/66 loss: 0.1519 - acc: 0.9475 - val_loss: 3.5650 - val_acc: 0.6215\n",
            "Epoch 35/66 loss: 0.1420 - acc: 0.9510 - val_loss: 3.8006 - val_acc: 0.6192\n",
            "Epoch 36/66 loss: 0.1539 - acc: 0.9474 - val_loss: 3.7062 - val_acc: 0.6171\n",
            "Epoch 37/66 loss: 0.1442 - acc: 0.9510 - val_loss: 3.8115 - val_acc: 0.6146\n",
            "Epoch 38/66 loss: 0.1446 - acc: 0.9514 - val_loss: 3.9411 - val_acc: 0.6152\n",
            "Epoch 39/66 loss: 0.1389 - acc: 0.9543 - val_loss: 4.0666 - val_acc: 0.6233\n",
            "Epoch 40/66 loss: 0.1430 - acc: 0.9533 - val_loss: 4.2738 - val_acc: 0.6194\n",
            "Epoch 41/66 loss: 0.1489 - acc: 0.9514 - val_loss: 4.1576 - val_acc: 0.6137\n",
            "Epoch 42/66 loss: 0.1399 - acc: 0.9549 - val_loss: 4.3931 - val_acc: 0.6114\n",
            "Epoch 43/66 loss: 0.1398 - acc: 0.9545 - val_loss: 4.3787 - val_acc: 0.6245\n",
            "Epoch 44/66 loss: 0.1352 - acc: 0.9562 - val_loss: 4.5992 - val_acc: 0.6128\n",
            "Epoch 45/66 loss: 0.1445 - acc: 0.9553 - val_loss: 4.5860 - val_acc: 0.6146\n",
            "Epoch 46/66 loss: 0.1313 - acc: 0.9578 - val_loss: 4.7074 - val_acc: 0.6118\n",
            "Epoch 47/66 loss: 0.1356 - acc: 0.9580 - val_loss: 4.8142 - val_acc: 0.6160\n",
            "Epoch 48/66 loss: 0.1440 - acc: 0.9549 - val_loss: 4.8602 - val_acc: 0.6159\n",
            "Epoch 49/66 loss: 0.1416 - acc: 0.9583 - val_loss: 4.7998 - val_acc: 0.6224\n",
            "Epoch 50/66 loss: 0.1312 - acc: 0.9593 - val_loss: 5.0450 - val_acc: 0.6134\n",
            "Epoch 51/66 loss: 0.1373 - acc: 0.9598 - val_loss: 5.0710 - val_acc: 0.6197\n",
            "Epoch 52/66 loss: 0.1362 - acc: 0.9598 - val_loss: 5.2334 - val_acc: 0.6166\n",
            "Epoch 53/66 loss: 0.1390 - acc: 0.9589 - val_loss: 5.3949 - val_acc: 0.6247\n",
            "Epoch 54/66 loss: 0.1294 - acc: 0.9616 - val_loss: 5.5279 - val_acc: 0.6127\n",
            "Epoch 55/66 loss: 0.1430 - acc: 0.9590 - val_loss: 5.5091 - val_acc: 0.6197\n",
            "Epoch 56/66 loss: 0.1267 - acc: 0.9629 - val_loss: 5.6420 - val_acc: 0.6171\n",
            "Epoch 57/66 loss: 0.1371 - acc: 0.9615 - val_loss: 5.5425 - val_acc: 0.6056\n",
            "Epoch 58/66 loss: 0.1415 - acc: 0.9602 - val_loss: 5.8767 - val_acc: 0.6143\n",
            "Epoch 59/66 loss: 0.1271 - acc: 0.9638 - val_loss: 5.7624 - val_acc: 0.6200\n",
            "Epoch 60/66 loss: 0.1301 - acc: 0.9638 - val_loss: 5.9893 - val_acc: 0.6234\n",
            "Epoch 61/66 loss: 0.1405 - acc: 0.9617 - val_loss: 6.0402 - val_acc: 0.6170\n",
            "Epoch 62/66 loss: 0.1278 - acc: 0.9659 - val_loss: 6.0237 - val_acc: 0.6193\n",
            "Epoch 63/66 loss: 0.1287 - acc: 0.9641 - val_loss: 6.2665 - val_acc: 0.6231\n",
            "Epoch 64/66 loss: 0.1370 - acc: 0.9624 - val_loss: 6.2754 - val_acc: 0.6165\n",
            "Epoch 65/66 loss: 0.1265 - acc: 0.9650 - val_loss: 6.4852 - val_acc: 0.6159\n",
            "Epoch 66/66 loss: 0.1349 - acc: 0.9635 - val_loss: 6.4855 - val_acc: 0.6090\n"
          ]
        },
        {
          "output_type": "execute_result",
          "data": {
            "text/plain": [
              "[0.963531669865643, 0.6090255591054313]"
            ]
          },
          "metadata": {},
          "execution_count": 37
        }
      ]
    }
  ]
}